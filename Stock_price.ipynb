{
  "cells": [
    {
      "cell_type": "markdown",
      "metadata": {
        "id": "view-in-github",
        "colab_type": "text"
      },
      "source": [
        "<a href=\"https://colab.research.google.com/github/Ashaduzzaman12/Deep_Learning/blob/main/Stock_price.ipynb\" target=\"_parent\"><img src=\"https://colab.research.google.com/assets/colab-badge.svg\" alt=\"Open In Colab\"/></a>"
      ]
    },
    {
      "cell_type": "code",
      "execution_count": null,
      "metadata": {
        "id": "pLjFKWlSzdqV"
      },
      "outputs": [],
      "source": [
        "pip install -r requirements.txt\n"
      ]
    },
    {
      "cell_type": "code",
      "execution_count": null,
      "metadata": {
        "id": "3iWsmvlBzeYS"
      },
      "outputs": [],
      "source": [
        "import os\n",
        "import numpy as np\n",
        "import pandas as pd\n",
        "import matplotlib.pyplot as plt\n",
        "import seaborn as sns\n",
        "from sklearn.preprocessing import MinMaxScaler\n",
        "from sklearn.metrics import mean_squared_error, mean_absolute_percentage_error\n",
        "from statsmodels.tsa.arima.model import ARIMA\n",
        "import joblib\n",
        "import tensorflow as tf\n",
        "from tensorflow.keras.models import Sequential\n",
        "from tensorflow.keras.layers import LSTM, Dense, Dropout\n",
        "from tqdm import tqdm\n",
        "import math"
      ]
    },
    {
      "cell_type": "code",
      "execution_count": null,
      "metadata": {
        "colab": {
          "base_uri": "https://localhost:8080/",
          "height": 206
        },
        "id": "eJyekwToztb0",
        "outputId": "b6f0cd01-04b9-4c0d-c9e6-e8ea4db02eec"
      },
      "outputs": [
        {
          "data": {
            "application/vnd.google.colaboratory.intrinsic+json": {
              "summary": "{\n  \"name\": \"df\",\n  \"rows\": 1470,\n  \"fields\": [\n    {\n      \"column\": \"Date\",\n      \"properties\": {\n        \"dtype\": \"date\",\n        \"min\": \"2005-10-17 00:00:00\",\n        \"max\": \"2011-08-17 00:00:00\",\n        \"num_unique_values\": 1470,\n        \"samples\": [\n          \"2009-12-04 00:00:00\",\n          \"2006-07-12 00:00:00\",\n          \"2010-08-25 00:00:00\"\n        ],\n        \"semantic_type\": \"\",\n        \"description\": \"\"\n      }\n    },\n    {\n      \"column\": \"Close\",\n      \"properties\": {\n        \"dtype\": \"number\",\n        \"std\": 11.297524941746937,\n        \"min\": 6.26,\n        \"max\": 49.8,\n        \"num_unique_values\": 1106,\n        \"samples\": [\n          14.45,\n          24.76,\n          10.18\n        ],\n        \"semantic_type\": \"\",\n        \"description\": \"\"\n      }\n    }\n  ]\n}",
              "type": "dataframe",
              "variable_name": "df"
            },
            "text/html": [
              "\n",
              "  <div id=\"df-5d707552-653c-435f-9232-0b75a24726bd\" class=\"colab-df-container\">\n",
              "    <div>\n",
              "<style scoped>\n",
              "    .dataframe tbody tr th:only-of-type {\n",
              "        vertical-align: middle;\n",
              "    }\n",
              "\n",
              "    .dataframe tbody tr th {\n",
              "        vertical-align: top;\n",
              "    }\n",
              "\n",
              "    .dataframe thead th {\n",
              "        text-align: right;\n",
              "    }\n",
              "</style>\n",
              "<table border=\"1\" class=\"dataframe\">\n",
              "  <thead>\n",
              "    <tr style=\"text-align: right;\">\n",
              "      <th></th>\n",
              "      <th>Date</th>\n",
              "      <th>Close</th>\n",
              "    </tr>\n",
              "  </thead>\n",
              "  <tbody>\n",
              "    <tr>\n",
              "      <th>0</th>\n",
              "      <td>2005-10-17</td>\n",
              "      <td>6.60</td>\n",
              "    </tr>\n",
              "    <tr>\n",
              "      <th>1</th>\n",
              "      <td>2005-10-18</td>\n",
              "      <td>6.45</td>\n",
              "    </tr>\n",
              "    <tr>\n",
              "      <th>2</th>\n",
              "      <td>2005-10-19</td>\n",
              "      <td>6.78</td>\n",
              "    </tr>\n",
              "    <tr>\n",
              "      <th>3</th>\n",
              "      <td>2005-10-20</td>\n",
              "      <td>6.93</td>\n",
              "    </tr>\n",
              "    <tr>\n",
              "      <th>4</th>\n",
              "      <td>2005-10-21</td>\n",
              "      <td>6.87</td>\n",
              "    </tr>\n",
              "  </tbody>\n",
              "</table>\n",
              "</div>\n",
              "    <div class=\"colab-df-buttons\">\n",
              "\n",
              "  <div class=\"colab-df-container\">\n",
              "    <button class=\"colab-df-convert\" onclick=\"convertToInteractive('df-5d707552-653c-435f-9232-0b75a24726bd')\"\n",
              "            title=\"Convert this dataframe to an interactive table.\"\n",
              "            style=\"display:none;\">\n",
              "\n",
              "  <svg xmlns=\"http://www.w3.org/2000/svg\" height=\"24px\" viewBox=\"0 -960 960 960\">\n",
              "    <path d=\"M120-120v-720h720v720H120Zm60-500h600v-160H180v160Zm220 220h160v-160H400v160Zm0 220h160v-160H400v160ZM180-400h160v-160H180v160Zm440 0h160v-160H620v160ZM180-180h160v-160H180v160Zm440 0h160v-160H620v160Z\"/>\n",
              "  </svg>\n",
              "    </button>\n",
              "\n",
              "  <style>\n",
              "    .colab-df-container {\n",
              "      display:flex;\n",
              "      gap: 12px;\n",
              "    }\n",
              "\n",
              "    .colab-df-convert {\n",
              "      background-color: #E8F0FE;\n",
              "      border: none;\n",
              "      border-radius: 50%;\n",
              "      cursor: pointer;\n",
              "      display: none;\n",
              "      fill: #1967D2;\n",
              "      height: 32px;\n",
              "      padding: 0 0 0 0;\n",
              "      width: 32px;\n",
              "    }\n",
              "\n",
              "    .colab-df-convert:hover {\n",
              "      background-color: #E2EBFA;\n",
              "      box-shadow: 0px 1px 2px rgba(60, 64, 67, 0.3), 0px 1px 3px 1px rgba(60, 64, 67, 0.15);\n",
              "      fill: #174EA6;\n",
              "    }\n",
              "\n",
              "    .colab-df-buttons div {\n",
              "      margin-bottom: 4px;\n",
              "    }\n",
              "\n",
              "    [theme=dark] .colab-df-convert {\n",
              "      background-color: #3B4455;\n",
              "      fill: #D2E3FC;\n",
              "    }\n",
              "\n",
              "    [theme=dark] .colab-df-convert:hover {\n",
              "      background-color: #434B5C;\n",
              "      box-shadow: 0px 1px 3px 1px rgba(0, 0, 0, 0.15);\n",
              "      filter: drop-shadow(0px 1px 2px rgba(0, 0, 0, 0.3));\n",
              "      fill: #FFFFFF;\n",
              "    }\n",
              "  </style>\n",
              "\n",
              "    <script>\n",
              "      const buttonEl =\n",
              "        document.querySelector('#df-5d707552-653c-435f-9232-0b75a24726bd button.colab-df-convert');\n",
              "      buttonEl.style.display =\n",
              "        google.colab.kernel.accessAllowed ? 'block' : 'none';\n",
              "\n",
              "      async function convertToInteractive(key) {\n",
              "        const element = document.querySelector('#df-5d707552-653c-435f-9232-0b75a24726bd');\n",
              "        const dataTable =\n",
              "          await google.colab.kernel.invokeFunction('convertToInteractive',\n",
              "                                                    [key], {});\n",
              "        if (!dataTable) return;\n",
              "\n",
              "        const docLinkHtml = 'Like what you see? Visit the ' +\n",
              "          '<a target=\"_blank\" href=https://colab.research.google.com/notebooks/data_table.ipynb>data table notebook</a>'\n",
              "          + ' to learn more about interactive tables.';\n",
              "        element.innerHTML = '';\n",
              "        dataTable['output_type'] = 'display_data';\n",
              "        await google.colab.output.renderOutput(dataTable, element);\n",
              "        const docLink = document.createElement('div');\n",
              "        docLink.innerHTML = docLinkHtml;\n",
              "        element.appendChild(docLink);\n",
              "      }\n",
              "    </script>\n",
              "  </div>\n",
              "\n",
              "\n",
              "    <div id=\"df-93a0742a-23b2-41c9-9c0a-ff955a812eaa\">\n",
              "      <button class=\"colab-df-quickchart\" onclick=\"quickchart('df-93a0742a-23b2-41c9-9c0a-ff955a812eaa')\"\n",
              "                title=\"Suggest charts\"\n",
              "                style=\"display:none;\">\n",
              "\n",
              "<svg xmlns=\"http://www.w3.org/2000/svg\" height=\"24px\"viewBox=\"0 0 24 24\"\n",
              "     width=\"24px\">\n",
              "    <g>\n",
              "        <path d=\"M19 3H5c-1.1 0-2 .9-2 2v14c0 1.1.9 2 2 2h14c1.1 0 2-.9 2-2V5c0-1.1-.9-2-2-2zM9 17H7v-7h2v7zm4 0h-2V7h2v10zm4 0h-2v-4h2v4z\"/>\n",
              "    </g>\n",
              "</svg>\n",
              "      </button>\n",
              "\n",
              "<style>\n",
              "  .colab-df-quickchart {\n",
              "      --bg-color: #E8F0FE;\n",
              "      --fill-color: #1967D2;\n",
              "      --hover-bg-color: #E2EBFA;\n",
              "      --hover-fill-color: #174EA6;\n",
              "      --disabled-fill-color: #AAA;\n",
              "      --disabled-bg-color: #DDD;\n",
              "  }\n",
              "\n",
              "  [theme=dark] .colab-df-quickchart {\n",
              "      --bg-color: #3B4455;\n",
              "      --fill-color: #D2E3FC;\n",
              "      --hover-bg-color: #434B5C;\n",
              "      --hover-fill-color: #FFFFFF;\n",
              "      --disabled-bg-color: #3B4455;\n",
              "      --disabled-fill-color: #666;\n",
              "  }\n",
              "\n",
              "  .colab-df-quickchart {\n",
              "    background-color: var(--bg-color);\n",
              "    border: none;\n",
              "    border-radius: 50%;\n",
              "    cursor: pointer;\n",
              "    display: none;\n",
              "    fill: var(--fill-color);\n",
              "    height: 32px;\n",
              "    padding: 0;\n",
              "    width: 32px;\n",
              "  }\n",
              "\n",
              "  .colab-df-quickchart:hover {\n",
              "    background-color: var(--hover-bg-color);\n",
              "    box-shadow: 0 1px 2px rgba(60, 64, 67, 0.3), 0 1px 3px 1px rgba(60, 64, 67, 0.15);\n",
              "    fill: var(--button-hover-fill-color);\n",
              "  }\n",
              "\n",
              "  .colab-df-quickchart-complete:disabled,\n",
              "  .colab-df-quickchart-complete:disabled:hover {\n",
              "    background-color: var(--disabled-bg-color);\n",
              "    fill: var(--disabled-fill-color);\n",
              "    box-shadow: none;\n",
              "  }\n",
              "\n",
              "  .colab-df-spinner {\n",
              "    border: 2px solid var(--fill-color);\n",
              "    border-color: transparent;\n",
              "    border-bottom-color: var(--fill-color);\n",
              "    animation:\n",
              "      spin 1s steps(1) infinite;\n",
              "  }\n",
              "\n",
              "  @keyframes spin {\n",
              "    0% {\n",
              "      border-color: transparent;\n",
              "      border-bottom-color: var(--fill-color);\n",
              "      border-left-color: var(--fill-color);\n",
              "    }\n",
              "    20% {\n",
              "      border-color: transparent;\n",
              "      border-left-color: var(--fill-color);\n",
              "      border-top-color: var(--fill-color);\n",
              "    }\n",
              "    30% {\n",
              "      border-color: transparent;\n",
              "      border-left-color: var(--fill-color);\n",
              "      border-top-color: var(--fill-color);\n",
              "      border-right-color: var(--fill-color);\n",
              "    }\n",
              "    40% {\n",
              "      border-color: transparent;\n",
              "      border-right-color: var(--fill-color);\n",
              "      border-top-color: var(--fill-color);\n",
              "    }\n",
              "    60% {\n",
              "      border-color: transparent;\n",
              "      border-right-color: var(--fill-color);\n",
              "    }\n",
              "    80% {\n",
              "      border-color: transparent;\n",
              "      border-right-color: var(--fill-color);\n",
              "      border-bottom-color: var(--fill-color);\n",
              "    }\n",
              "    90% {\n",
              "      border-color: transparent;\n",
              "      border-bottom-color: var(--fill-color);\n",
              "    }\n",
              "  }\n",
              "</style>\n",
              "\n",
              "      <script>\n",
              "        async function quickchart(key) {\n",
              "          const quickchartButtonEl =\n",
              "            document.querySelector('#' + key + ' button');\n",
              "          quickchartButtonEl.disabled = true;  // To prevent multiple clicks.\n",
              "          quickchartButtonEl.classList.add('colab-df-spinner');\n",
              "          try {\n",
              "            const charts = await google.colab.kernel.invokeFunction(\n",
              "                'suggestCharts', [key], {});\n",
              "          } catch (error) {\n",
              "            console.error('Error during call to suggestCharts:', error);\n",
              "          }\n",
              "          quickchartButtonEl.classList.remove('colab-df-spinner');\n",
              "          quickchartButtonEl.classList.add('colab-df-quickchart-complete');\n",
              "        }\n",
              "        (() => {\n",
              "          let quickchartButtonEl =\n",
              "            document.querySelector('#df-93a0742a-23b2-41c9-9c0a-ff955a812eaa button');\n",
              "          quickchartButtonEl.style.display =\n",
              "            google.colab.kernel.accessAllowed ? 'block' : 'none';\n",
              "        })();\n",
              "      </script>\n",
              "    </div>\n",
              "\n",
              "    </div>\n",
              "  </div>\n"
            ],
            "text/plain": [
              "        Date  Close\n",
              "0 2005-10-17   6.60\n",
              "1 2005-10-18   6.45\n",
              "2 2005-10-19   6.78\n",
              "3 2005-10-20   6.93\n",
              "4 2005-10-21   6.87"
            ]
          },
          "execution_count": 20,
          "metadata": {},
          "output_type": "execute_result"
        }
      ],
      "source": [
        "df = pd.read_csv(\"AAPL.csv\", parse_dates=[\"Date\"])\n",
        "df = df.sort_values(\"Date\").reset_index(drop=True)\n",
        "df = df[[\"Date\", \"Close\"]].dropna()\n",
        "df.head()"
      ]
    },
    {
      "cell_type": "code",
      "execution_count": null,
      "metadata": {
        "colab": {
          "base_uri": "https://localhost:8080/",
          "height": 281
        },
        "id": "7kvQp1eAz_Ys",
        "outputId": "b3cfc3d8-fbcf-4d3c-de2d-a96fd35ea7f8"
      },
      "outputs": [
        {
          "data": {
            "image/png": "[encoded data removed]",
            "text/plain": [
              "<Figure size 1200x400 with 1 Axes>"
            ]
          },
          "metadata": {},
          "output_type": "display_data"
        }
      ],
      "source": [
        "plt.figure(figsize=(12,4))\n",
        "plt.plot(df.Date, df.Close)\n",
        "plt.title(\"Daily Close Price\")\n",
        "plt.xlabel(\"Date\")\n",
        "plt.ylabel(\"Close\")\n",
        "plt.show()\n"
      ]
    },
    {
      "cell_type": "code",
      "execution_count": null,
      "metadata": {
        "id": "QB1cBsh90USz"
      },
      "outputs": [],
      "source": [
        "def train_val_test_split_by_date(df, val_size=0.1, test_size=0.1):\n",
        "    n = len(df)\n",
        "    test_n = int(n * test_size)\n",
        "    val_n = int(n * val_size)\n",
        "    train = df.iloc[: n - val_n - test_n].copy()\n",
        "    val = df.iloc[n - val_n - test_n: n - test_n].copy()\n",
        "    test = df.iloc[n - test_n:].copy()\n",
        "    return train, val, test\n",
        "\n",
        "def scale_series(train_series, val_series=None, test_series=None):\n",
        "    scaler = MinMaxScaler()\n",
        "    train_scaled = scaler.fit_transform(train_series.values.reshape(-1,1)).flatten()\n",
        "    result = {'scaler': scaler, 'train': train_scaled}\n",
        "    if val_series is not None:\n",
        "        result['val'] = scaler.transform(val_series.values.reshape(-1,1)).flatten()\n",
        "    if test_series is not None:\n",
        "        result['test'] = scaler.transform(test_series.values.reshape(-1,1)).flatten()\n",
        "    return result"
      ]
    },
    {
      "cell_type": "code",
      "execution_count": null,
      "metadata": {
        "id": "UdWqkn-Y0bF3"
      },
      "outputs": [],
      "source": [
        "def rmse(y_true, y_pred):\n",
        "    return math.sqrt(mean_squared_error(y_true, y_pred))\n",
        "\n",
        "def mape(y_true, y_pred):\n",
        "    # sklearn's MAPE expects non-zero y_true; add tiny epsilon to avoid division by zero\n",
        "    return mean_absolute_percentage_error(y_true, y_pred)"
      ]
    },
    {
      "cell_type": "code",
      "execution_count": null,
      "metadata": {
        "id": "T5sr7p5T0gPr"
      },
      "outputs": [],
      "source": [
        "def rolling_forecast(df_dates, series, model_forecast_func, window_size, horizon, step=1):\n",
        "    \"\"\"\n",
        "    df_dates: list/dates (for indexing)\n",
        "    series: 1D np.array of the full series (unscaled or scaled — be consistent)\n",
        "    model_forecast_func: function(history_array, horizon) -> forecast_array (length=horizon)\n",
        "    window_size: number of points used for fitting each step\n",
        "    horizon: forecast horizon\n",
        "    step: sliding step\n",
        "    Returns: dict with predictions, truths, indices\n",
        "    \"\"\"\n",
        "    preds = []\n",
        "    truths = []\n",
        "    indices = []  # index of start of truth\n",
        "    n = len(series)\n",
        "    # we forecast for times where we have at least window_size history and horizon future\n",
        "    start = window_size\n",
        "    end = n - horizon + 1\n",
        "    for t in range(start, end, step):\n",
        "        history = series[t-window_size:t]\n",
        "        y_true = series[t:t+horizon]\n",
        "        y_pred = model_forecast_func(history, horizon)\n",
        "        preds.append(y_pred)\n",
        "        truths.append(y_true)\n",
        "        indices.append(t)\n",
        "    preds = np.array(preds)\n",
        "    truths = np.array(truths)\n",
        "    return {'preds': preds, 'truths': truths, 'indices': indices}\n"
      ]
    },
    {
      "cell_type": "code",
      "execution_count": null,
      "metadata": {
        "id": "MD8jTBHV0gtN"
      },
      "outputs": [],
      "source": [
        "from statsmodels.tools.sm_exceptions import ConvergenceWarning\n",
        "import warnings\n",
        "warnings.simplefilter('ignore', ConvergenceWarning)\n",
        "warnings.filterwarnings(\"ignore\")\n",
        "\n",
        "def arima_forecast(history, horizon, order=(5,1,0)):\n",
        "    # history: 1D numpy array (not scaled inverse needed outside)\n",
        "    try:\n",
        "        model = ARIMA(history, order=order)\n",
        "        model_fit = model.fit()\n",
        "        fc = model_fit.forecast(steps=horizon)\n",
        "        return np.array(fc)\n",
        "    except Exception as e:\n",
        "        # fallback: naive persistence (last value)\n",
        "        last = history[-1]\n",
        "        return np.array([last]*horizon)"
      ]
    },
    {
      "cell_type": "code",
      "execution_count": null,
      "metadata": {
        "id": "cQ8Uf9vz1NHU"
      },
      "outputs": [],
      "source": [
        "def create_sequences(arr, seq_len=30, horizon=1):\n",
        "    X, y = [], []\n",
        "    for i in range(len(arr) - seq_len - horizon + 1):\n",
        "        X.append(arr[i:i+seq_len])\n",
        "        y.append(arr[i+seq_len:i+seq_len+horizon])\n",
        "    X = np.array(X)\n",
        "    y = np.array(y)\n",
        "    # reshape X for LSTM: (samples, seq_len, features)\n",
        "    X = X.reshape((X.shape[0], X.shape[1], 1))\n",
        "    return X, y\n",
        "\n",
        "def build_lstm(seq_len=30, horizon=1, hidden_units=64, dropout=0.1):\n",
        "    model = Sequential([\n",
        "        LSTM(hidden_units, input_shape=(seq_len,1)),\n",
        "        Dropout(dropout),\n",
        "        Dense(horizon)\n",
        "    ])\n",
        "    model.compile(optimizer='adam', loss='mse')\n",
        "    return model"
      ]
    },
    {
      "cell_type": "code",
      "execution_count": null,
      "metadata": {
        "id": "MFICh0_f0i6Y"
      },
      "outputs": [],
      "source": [
        "def lstm_forecast(history, horizon, seq_len=30, epochs=50, verbose=0):\n",
        "    \"\"\"\n",
        "    history: 1D numpy array (scaled between 0-1 ideally)\n",
        "    We'll use the last portion of history to create training sequences.\n",
        "    For speed in rolling eval, reduce epochs like 5-20.\n",
        "    \"\"\"\n",
        "    if len(history) < seq_len + horizon + 1:\n",
        "        # fallback to persistence\n",
        "        last = history[-1]\n",
        "        return np.array([last]*horizon)\n",
        "    X, y = create_sequences(history, seq_len=seq_len, horizon=horizon)\n",
        "    # if only one sample, fallback\n",
        "    if X.shape[0] < 5:\n",
        "        # not enough data to train; return persistence\n",
        "        return np.array([history[-1]]*horizon)\n",
        "    model = build_lstm(seq_len=seq_len, horizon=horizon, hidden_units=64)\n",
        "    # early stop lightly\n",
        "    model.fit(X, y, epochs=epochs, batch_size=16, verbose=verbose)\n",
        "    # prepare input: last seq_len values\n",
        "    input_seq = history[-seq_len:].reshape((1, seq_len, 1))\n",
        "    pred = model.predict(input_seq, verbose=0).flatten()\n",
        "    return pred\n"
      ]
    },
    {
      "cell_type": "code",
      "execution_count": null,
      "metadata": {
        "colab": {
          "base_uri": "https://localhost:8080/"
        },
        "id": "6FNVyBDu1R9U",
        "outputId": "23d204a3-ed07-4631-c852-529841d56154"
      },
      "outputs": [
        {
          "name": "stdout",
          "output_type": "stream",
          "text": [
            "test starts at index 1323\n"
          ]
        }
      ],
      "source": [
        "train, val, test = train_val_test_split_by_date(df, val_size=0.1, test_size=0.1)\n",
        "full_series = df['Close'].values\n",
        "dates = df['Date'].values\n",
        "\n",
        "# scaler fit on train\n",
        "scaler = MinMaxScaler()\n",
        "scaler.fit(train[['Close']])\n",
        "full_scaled = scaler.transform(df[['Close']]).flatten()\n",
        "\n",
        "# define indices for test start\n",
        "test_start_idx = df.index[df['Date'] == test['Date'].iloc[0]][0]\n",
        "print(\"test starts at index\", test_start_idx)\n"
      ]
    },
    {
      "cell_type": "code",
      "execution_count": null,
      "metadata": {
        "colab": {
          "background_save": true,
          "base_uri": "https://localhost:8080/"
        },
        "id": "_GjH-fgv1a3q",
        "outputId": "7acf4ed3-8a51-45b2-efbd-7ac6f888d8d8"
      },
      "outputs": [
        {
          "name": "stderr",
          "output_type": "stream",
          "text": [
            "WARNING:tensorflow:5 out of the last 5 calls to <function TensorFlowTrainer.make_predict_function.<locals>.one_step_on_data_distributed at 0x7a9d226484a0> triggered tf.function retracing. Tracing is expensive and the excessive number of tracings could be due to (1) creating @tf.function repeatedly in a loop, (2) passing tensors with different shapes, (3) passing Python objects instead of tensors. For (1), please define your @tf.function outside of the loop. For (2), @tf.function has reduce_retracing=True option that can avoid unnecessary retracing. For (3), please refer to https://www.tensorflow.org/guide/function#controlling_retracing and https://www.tensorflow.org/api_docs/python/tf/function for  more details.\n",
            "WARNING:tensorflow:6 out of the last 6 calls to <function TensorFlowTrainer.make_predict_function.<locals>.one_step_on_data_distributed at 0x7a9d224fbec0> triggered tf.function retracing. Tracing is expensive and the excessive number of tracings could be due to (1) creating @tf.function repeatedly in a loop, (2) passing tensors with different shapes, (3) passing Python objects instead of tensors. For (1), please define your @tf.function outside of the loop. For (2), @tf.function has reduce_retracing=True option that can avoid unnecessary retracing. For (3), please refer to https://www.tensorflow.org/guide/function#controlling_retracing and https://www.tensorflow.org/api_docs/python/tf/function for  more details.\n"
          ]
        }
      ],
      "source": [
        "window_size = 252\n",
        "horizon = 5\n",
        "step = 5  # slide every 5 days to reduce compute\n",
        "\n",
        "# ARIMA rolling (on original scale)\n",
        "def arima_wrapper(history, horizon):\n",
        "    return arima_forecast(history, horizon, order=(5,1,0))\n",
        "\n",
        "res_arima = rolling_forecast(dates, full_series, arima_wrapper, window_size=window_size, horizon=horizon, step=step)\n",
        "\n",
        "# LSTM rolling (on scaled scale)\n",
        "def lstm_wrapper_scaled(history, horizon):\n",
        "    # history comes scaled here\n",
        "    pred_scaled = lstm_forecast(history, horizon, seq_len=30, epochs=10, verbose=0)\n",
        "    # inverse scale predictions before returning (history was scaled w/ scaler fitted earlier)\n",
        "    pred_scaled = np.array(pred_scaled)\n",
        "    # inverse transform: need reshape\n",
        "    pred_inv = scaler.inverse_transform(pred_scaled.reshape(-1,1)).flatten()\n",
        "    return pred_inv\n",
        "\n",
        "# But rolling_forecast expects one series. We'll feed scaled but keep mapping.\n",
        "res_lstm = rolling_forecast(dates, full_scaled,\n",
        "                            model_forecast_func=lambda h, fw: scaler.inverse_transform(lstm_forecast(h, fw, seq_len=30, epochs=10, verbose=0).reshape(-1,1)).flatten(),\n",
        "                            window_size=window_size,\n",
        "                            horizon=horizon,\n",
        "                            step=step)"
      ]
    },
    {
      "cell_type": "code",
      "execution_count": null,
      "metadata": {
        "colab": {
          "background_save": true
        },
        "id": "ZdMKfkRj1c8h",
        "outputId": "f969e6a2-0e6e-48d9-c23c-7da3d3656128"
      },
      "outputs": [
        {
          "name": "stdout",
          "output_type": "stream",
          "text": [
            "ARIMA: {'RMSE': 1.0854359638400035, 'MAPE': 0.019619503743467794}\n",
            "LSTM: {'RMSE': 40.495040436155115, 'MAPE': 30.39714768283457}\n"
          ]
        }
      ],
      "source": [
        "def evaluate_rolling(result, series, indices, horizon, test_start_idx):\n",
        "    preds = result['preds']\n",
        "    truths = result['truths']\n",
        "    idxs = result['indices']\n",
        "    # collect only forecasts whose first predicted index >= test_start_idx\n",
        "    rows = []\n",
        "    for i, idx in enumerate(idxs):\n",
        "        if idx >= test_start_idx:\n",
        "            y_true = truths[i]\n",
        "            y_pred = preds[i]\n",
        "            rows.append((idx, y_true, y_pred))\n",
        "    if not rows:\n",
        "        raise ValueError(\"No test windows selected, adjust window/horizon/step or check splits.\")\n",
        "    # flatten and compute metrics for each horizon-step aggregated\n",
        "    y_true_flat = np.concatenate([r[1] for r in rows])\n",
        "    y_pred_flat = np.concatenate([r[2] for r in rows])\n",
        "    return {'RMSE': rmse(y_true_flat, y_pred_flat), 'MAPE': mape(y_true_flat, y_pred_flat)}\n",
        "\n",
        "arima_metrics = evaluate_rolling(res_arima, full_series, res_arima['indices'], horizon, test_start_idx)\n",
        "lstm_metrics = evaluate_rolling(res_lstm, full_series, res_lstm['indices'], horizon, test_start_idx)\n",
        "print(\"ARIMA:\", arima_metrics)\n",
        "print(\"LSTM:\", lstm_metrics)"
      ]
    },
    {
      "cell_type": "code",
      "execution_count": null,
      "metadata": {
        "id": "_hZMtNu-1s4p"
      },
      "outputs": [],
      "source": [
        "import pandas as pd\n",
        "metrics_df = pd.DataFrame([{\n",
        "    'Model': 'ARIMA(5,1,0)',\n",
        "    'RMSE': arima_metrics['RMSE'],\n",
        "    'MAPE': arima_metrics['MAPE']\n",
        "},{\n",
        "    'Model': 'LSTM (seq=30, epochs=10)',\n",
        "    'RMSE': lstm_metrics['RMSE'],\n",
        "    'MAPE': lstm_metrics['MAPE']\n",
        "}])\n",
        "metrics_df"
      ]
    },
    {
      "cell_type": "code",
      "execution_count": null,
      "metadata": {
        "colab": {
          "background_save": true
        },
        "id": "vw4nFfz31wJm",
        "outputId": "cd3f449a-317c-4059-e0de-eeef69b81138"
      },
      "outputs": [
        {
          "data": {
            "image/png": "[encoded data removed]",
            "text/plain": [
              "<Figure size 1000x400 with 1 Axes>"
            ]
          },
          "metadata": {},
          "output_type": "display_data"
        }
      ],
      "source": [
        "i = -1\n",
        "# find a test window index (last one)\n",
        "for j, idx in enumerate(res_arima['indices']):\n",
        "    if idx >= test_start_idx:\n",
        "        i = j\n",
        "# choose that i\n",
        "plt.figure(figsize=(10,4))\n",
        "truth = res_arima['truths'][i]\n",
        "pred_a = res_arima['preds'][i]\n",
        "pred_l = res_lstm['preds'][i]\n",
        "x = np.arange(len(truth))\n",
        "plt.plot(x, truth, label='Truth')\n",
        "plt.plot(x, pred_a, label='ARIMA')\n",
        "plt.plot(x, pred_l, label='LSTM')\n",
        "plt.legend()\n",
        "plt.title(f'Forecast window starting at index {res_arima[\"indices\"][i]} ({df.Date.iloc[res_arima[\"indices\"][i]].date()})')\n",
        "plt.show()"
      ]
    },
    {
      "cell_type": "code",
      "execution_count": null,
      "metadata": {
        "id": "ake75StT10WL"
      },
      "outputs": [],
      "source": [
        "# Cell 14 - save artifacts\n",
        "os.makedirs(\"artifacts\", exist_ok=True)\n",
        "# save scaler\n",
        "joblib.dump(scaler, \"artifacts/scaler.joblib\")\n",
        "\n",
        "# For ARIMA: save the last fitted model (if you fit one on train)\n",
        "# Suppose model_fit_arima is your final ARIMA model fitted on train+val\n",
        "# model_fit_arima.save(\"artifacts/arima_model.pkl\")   # statsmodels has save method returning pickle\n",
        "# if you used pmdarima:\n",
        "# joblib.dump(pmdarima_model, \"artifacts/arima_pm.pkl\")\n",
        "\n",
        "# For LSTM:\n",
        "# Suppose final_lstm_model trained on train+val\n",
        "# final_lstm_model.save(\"artifacts/lstm_model\")"
      ]
    }
  ],
  "metadata": {
    "colab": {
      "provenance": [],
      "authorship_tag": "ABX9TyMCZWkmwgAoshLOeWtdDHF1",
      "include_colab_link": true
    },
    "kernelspec": {
      "display_name": "Python 3",
      "name": "python3"
    },
    "language_info": {
      "name": "python"
    }
  },
  "nbformat": 4,
  "nbformat_minor": 0
}